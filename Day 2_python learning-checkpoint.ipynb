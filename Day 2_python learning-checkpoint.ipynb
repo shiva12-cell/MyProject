{
 "cells": [
  {
   "cell_type": "code",
   "execution_count": 11,
   "id": "ce2c17bd",
   "metadata": {},
   "outputs": [
    {
     "name": "stdout",
     "output_type": "stream",
     "text": [
      "0.7542664213388542\n",
      "2\n",
      "4.069725690564291\n"
     ]
    }
   ],
   "source": [
    "#random function\n",
    "\n",
    "import random\n",
    "print(random.random())# generate random floating number\n",
    "print(random.randrange(0,10)) # print random whole value between 2 range\n",
    "print(random.uniform(0,10))#print random float value"
   ]
  },
  {
   "cell_type": "code",
   "execution_count": 14,
   "id": "0b5e2123",
   "metadata": {},
   "outputs": [
    {
     "name": "stdout",
     "output_type": "stream",
     "text": [
      "6.589274272608506\n",
      "0.2086679308711774\n",
      "0.7875045150078759,0.5295305650630547,0.8794437274020215\n"
     ]
    }
   ],
   "source": [
    "#To print random float between 1 and 10\n",
    "import random\n",
    "x=random.uniform(0,10)\n",
    "print(x)\n",
    "#make a random number and store it into x\n",
    "x=random.random()\n",
    "print(x)\n",
    "#CAP that print 3 random numbers\n",
    "x=str(random.random()) + \",\"+ str(random.random()) + \",\"+ str(random.random())\n",
    "print(x)\n",
    "\n"
   ]
  },
  {
   "cell_type": "code",
   "execution_count": 25,
   "id": "68b2bf1a",
   "metadata": {},
   "outputs": [
    {
     "name": "stdout",
     "output_type": "stream",
     "text": [
      "what is your name?shiva\n",
      "hello shiva\n",
      "whats is your job?student\n",
      "your job student\n",
      "what's your phone number? 77777777\n",
      "77777777\n",
      "what's your preferreing programming language python\n",
      "python\n"
     ]
    }
   ],
   "source": [
    "#input function\n",
    "name=input('what is your name?')\n",
    "print(\"hello \" + name)\n",
    "job =input('whats is your job?')\n",
    "print(\"your job \" + job)\n",
    "#asking phone number\n",
    "phone=input(\"what's your phone number? \")\n",
    "print(phone)\n",
    "#CAC for asking user for preferred programming language\n",
    "language=input(\"what's your preferreing programming language \")\n",
    "print(language)"
   ]
  },
  {
   "cell_type": "code",
   "execution_count": 31,
   "id": "772a436c",
   "metadata": {},
   "outputs": [
    {
     "name": "stdout",
     "output_type": "stream",
     "text": [
      "enter a number 5\n",
      "u entered  5\n",
      "5 below 10 \n",
      "5  in the range of 1 to 10\n"
     ]
    }
   ],
   "source": [
    "#Controlled structure\n",
    "#IF statement \n",
    "#syntax if<condtion>:\n",
    "#       <statement>\n",
    "#example\n",
    "x=input(\"enter a number \")\n",
    "x=int(x)\n",
    "print(\"u entered \",x)\n",
    "if x < 10:\n",
    "    print(x , \"below 10 \")\n",
    "    \n",
    "if x > 10:\n",
    "    print(x , \"above 10\")\n",
    "    \n",
    "if x > 1 and x < 10:\n",
    "    print(x , \" in the range of 1 to 10\")\n",
    "    #mistake i did:  1st comparing string with int value\n",
    "    #concatenation of string with integer value \n",
    "    # use \",\" for printing integer value \n",
    "\n",
    "    "
   ]
  },
  {
   "cell_type": "code",
   "execution_count": 36,
   "id": "89f10ca9",
   "metadata": {},
   "outputs": [
    {
     "name": "stdout",
     "output_type": "stream",
     "text": [
      "enter a number 5\n",
      "u entered  5\n",
      "5 is below 10 \n"
     ]
    }
   ],
   "source": [
    "#IF else statement\n",
    "#example\n",
    "x=int(input(\"enter a number \"))\n",
    "\n",
    "print(\"u entered \",x)\n",
    "if x < 10:\n",
    "    print(x , \"is below 10 \")\n",
    "    \n",
    "elif x > 10:\n",
    "    print(x , \"is above 10\")\n",
    "    \n",
    "elif x > 1 and x < 10:\n",
    "    print(x , \" in the range of 1 to 10\")"
   ]
  },
  {
   "cell_type": "code",
   "execution_count": 38,
   "id": "e5cdaeb6",
   "metadata": {},
   "outputs": [
    {
     "name": "stdout",
     "output_type": "stream",
     "text": [
      "Enter a number ranging from 1 to 1011\n",
      "number out of range\n"
     ]
    }
   ],
   "source": [
    "#CAC to ask a user for random number between 1 to 10 and print if number is out of range\n",
    "number=int(input(\"Enter a number ranging from 1 to 10\"))\n",
    "if (number < 1 or number > 10):\n",
    "    print(\"number out of range\")\n",
    "    \n",
    "\n",
    "    "
   ]
  },
  {
   "cell_type": "code",
   "execution_count": 41,
   "id": "c3128776",
   "metadata": {},
   "outputs": [
    {
     "name": "stdout",
     "output_type": "stream",
     "text": [
      "city loop: \n",
      "agra\n",
      "mathura\n",
      "lucknow\n",
      "fatehpur\n"
     ]
    }
   ],
   "source": [
    "#for loop\n",
    "#loop for printing city\n",
    "city = ['agra','mathura','lucknow','fatehpur']\n",
    "print('city loop: ')\n",
    "for x in city:\n",
    "    print(x)"
   ]
  },
  {
   "cell_type": "code",
   "execution_count": 47,
   "id": "afad4b85",
   "metadata": {},
   "outputs": [
    {
     "name": "stdout",
     "output_type": "stream",
     "text": [
      "enter a number for finding multiple6\n",
      "multiple of given number : \n",
      "6\n",
      "12\n",
      "18\n",
      "24\n",
      "30\n",
      "36\n",
      "42\n",
      "48\n",
      "54\n",
      "60\n"
     ]
    }
   ],
   "source": [
    "#loop for finding multiple based on user input\n",
    "number = int(input(\"enter a number for finding multiple\"))\n",
    "print ('multiple of given number : ' )\n",
    "\n",
    "for y in range(1,11):\n",
    "    if y<=10:\n",
    "        print(number*y)"
   ]
  },
  {
   "cell_type": "code",
   "execution_count": 50,
   "id": "22bd9481",
   "metadata": {},
   "outputs": [
    {
     "name": "stdout",
     "output_type": "stream",
     "text": [
      "0\n",
      "1\n",
      "2\n",
      "3\n",
      "4\n",
      "5\n",
      "6\n",
      "7\n",
      "8\n",
      "9\n",
      "10\n"
     ]
    }
   ],
   "source": [
    "#create a loop that counts from 0 to 100\n",
    "for y in range(0,11):\n",
    "    if y<=10:\n",
    "        print(y)"
   ]
  },
  {
   "cell_type": "code",
   "execution_count": 60,
   "id": "544bd6e3",
   "metadata": {},
   "outputs": [
    {
     "name": "stdout",
     "output_type": "stream",
     "text": [
      "10\n",
      "9\n",
      "8\n",
      "7\n",
      "6\n",
      "5\n",
      "4\n",
      "3\n",
      "2\n",
      "1\n"
     ]
    }
   ],
   "source": [
    "#create a loop that counts numbers 1 to 10 backward\n",
    "for y in range(10,0,-1): # here we use start stop and step method in range function.\n",
    "    if y>=0:\n",
    "        print(y)"
   ]
  },
  {
   "cell_type": "code",
   "execution_count": 61,
   "id": "e6ec2591",
   "metadata": {},
   "outputs": [
    {
     "name": "stdout",
     "output_type": "stream",
     "text": [
      "2\n",
      "4\n",
      "6\n",
      "8\n",
      "10\n"
     ]
    }
   ],
   "source": [
    "#to print all even number\n",
    "for y in range(1,11):\n",
    "    if y%2==0:\n",
    "        print(y)"
   ]
  },
  {
   "cell_type": "code",
   "execution_count": 72,
   "id": "c5d74fb2",
   "metadata": {},
   "outputs": [
    {
     "name": "stdout",
     "output_type": "stream",
     "text": [
      "15150\n"
     ]
    }
   ],
   "source": [
    "#print sum of all number from 100 to 200\n",
    "value = 0\n",
    "for y in range(100,201):\n",
    "    value+=y\n",
    "print(value)"
   ]
  },
  {
   "cell_type": "code",
   "execution_count": null,
   "id": "7c58ecc2",
   "metadata": {},
   "outputs": [],
   "source": []
  },
  {
   "cell_type": "code",
   "execution_count": null,
   "id": "7d29418a",
   "metadata": {},
   "outputs": [],
   "source": []
  }
 ],
 "metadata": {
  "kernelspec": {
   "display_name": "Python 3 (ipykernel)",
   "language": "python",
   "name": "python3"
  },
  "language_info": {
   "codemirror_mode": {
    "name": "ipython",
    "version": 3
   },
   "file_extension": ".py",
   "mimetype": "text/x-python",
   "name": "python",
   "nbconvert_exporter": "python",
   "pygments_lexer": "ipython3",
   "version": "3.9.13"
  }
 },
 "nbformat": 4,
 "nbformat_minor": 5
}
