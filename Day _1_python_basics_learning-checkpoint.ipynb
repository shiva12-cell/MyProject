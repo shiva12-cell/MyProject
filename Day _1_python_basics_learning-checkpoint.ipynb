{
 "cells": [
  {
   "cell_type": "code",
   "execution_count": 1,
   "id": "613dc494",
   "metadata": {},
   "outputs": [
    {
     "name": "stdout",
     "output_type": "stream",
     "text": [
      "hello world\n"
     ]
    }
   ],
   "source": [
    "# 100 Days of Python Challenge\n",
    "# Documenting my progress as I learn Python over 100 days\n",
    "#Each day will cover new concepts, exercises, and projects to master Python.\n",
    "#Getting Started\n",
    "print('hello world')"
   ]
  },
  {
   "cell_type": "code",
   "execution_count": 2,
   "id": "6035e7e9",
   "metadata": {},
   "outputs": [
    {
     "name": "stdout",
     "output_type": "stream",
     "text": [
      "3\n",
      "3.412\n",
      "python\n",
      "python python\n",
      "6.824\n"
     ]
    }
   ],
   "source": [
    "#data types \n",
    "# To print two variables and \n",
    "x=3\n",
    "f=3.412\n",
    "name = \"python\"\n",
    "print(x)\n",
    "print(f)\n",
    "print(name)\n",
    "combination=name + \" \" + name \n",
    "print(combination)\n",
    "sum= f+f\n",
    "print(sum)"
   ]
  },
  {
   "cell_type": "code",
   "execution_count": 9,
   "id": "29bd2f4d",
   "metadata": {},
   "outputs": [
    {
     "name": "stdout",
     "output_type": "stream",
     "text": [
      "5   7\n",
      "5.55 23 56 231\n",
      "96\n",
      "96\n"
     ]
    }
   ],
   "source": [
    "#to show that x and X are different varibale \n",
    "x=5\n",
    "X=7\n",
    "print(x ,\" \", X )\n",
    "\n",
    "#example_1 \n",
    "print(5.55,23,56,231)\n",
    "#example_2\n",
    "a=64\n",
    "b=32\n",
    "print(a+b)\n",
    "#example_3\n",
    "a=64\n",
    "b=32\n",
    "sum=a+b\n",
    "print(sum)"
   ]
  },
  {
   "cell_type": "code",
   "execution_count": 19,
   "id": "82fd40aa",
   "metadata": {},
   "outputs": [
    {
     "name": "stdout",
     "output_type": "stream",
     "text": [
      "hello\n",
      "h\n",
      "l\n",
      "hell\n",
      "nancy\n",
      "my lucky number is 10, what is yours?\n",
      "my lucky number is 7,whats is yours ?\n"
     ]
    }
   ],
   "source": [
    "#define strings\n",
    "x=\"hello\"\n",
    "print(x)\n",
    "#string indexing \n",
    "print(x[0])\n",
    "print(x[3])\n",
    "#substrings\n",
    "print(x[0:4])\n",
    "#example\n",
    "x=\"nancy\"\n",
    "print(x)\n",
    "#combining numbers and text \n",
    "s=\"my lucky number is %d, what is yours?\"%10 #here %d somehow represents numbers to be filled in the space  \n",
    "print(s)\n",
    "# OR we can say\n",
    "s=\"my lucky number is \" + str(7) +\",whats is yours ?\" # here str() functions shows string \n",
    "print(s)"
   ]
  },
  {
   "cell_type": "code",
   "execution_count": 25,
   "id": "758bb45d",
   "metadata": {},
   "outputs": [
    {
     "name": "stdout",
     "output_type": "stream",
     "text": [
      "Hello universe \n",
      "Hello universe universe world\n",
      "Hello, I am shiva upadhyay\n"
     ]
    }
   ],
   "source": [
    "#To replace the words or strings\n",
    "s=\"Hello world \"\n",
    "s=s.replace(\"world\", \"universe\")\n",
    "print(s)\n",
    "# numbers of words to replace \n",
    "r=\"Hello world world world\"\n",
    "r=r.replace(\"world\",\"universe\",2) # here after universe \"2\" detremines how many times first letter i.e\n",
    "# world to be replaced \n",
    "print(r)\n",
    "# working with phrases\n",
    "t=\"Hello, my name is shiva upadhyay\"\n",
    "t=t.replace(\"my name is \",\"I am \")\n",
    "print(t)"
   ]
  },
  {
   "cell_type": "code",
   "execution_count": 32,
   "id": "57bcdcb7",
   "metadata": {},
   "outputs": [
    {
     "name": "stdout",
     "output_type": "stream",
     "text": [
      "Shiva Upadhyay\n",
      "how are you doing ?\n",
      "how_are_you_doing?\n"
     ]
    }
   ],
   "source": [
    "#join() fucntion syntax .join()\n",
    "first_name= \"Shiva\"\n",
    "last_name= \"Upadhyay\"\n",
    "sequence=(first_name,last_name)\n",
    "name=\" \".join(sequence) \n",
    "print (name)\n",
    "#with list\n",
    "words = [\"how\",\"are\",\"you\",\"doing\",\"?\"]\n",
    "sentence=' '.join(words)\n",
    "print (sentence)\n",
    "#with changing with differenct symbols\n",
    "words = [\"how\",\"are\",\"you\",\"doing?\"]\n",
    "sentence='_'.join(words)\n",
    "print (sentence)"
   ]
  },
  {
   "cell_type": "code",
   "execution_count": 40,
   "id": "87372f35",
   "metadata": {},
   "outputs": [
    {
     "name": "stdout",
     "output_type": "stream",
     "text": [
      "17\n",
      "query found\n"
     ]
    }
   ],
   "source": [
    "#find functions\n",
    "s=\" 1% rule : Doing one thing daily, make it easy by 1% each day \"\n",
    "index=s.find(\"one\")\n",
    "print(index)\n",
    "# to just find whether the string or word is present we use \n",
    "t =\" 1% rule : Doing one thing daily, make it easy by 1% each day \"\n",
    "if \"one\" in t:\n",
    "    print (\"query found\")\n",
    "#few questions"
   ]
  },
  {
   "cell_type": "code",
   "execution_count": 13,
   "id": "8652d3b5",
   "metadata": {},
   "outputs": [
    {
     "name": "stdout",
     "output_type": "stream",
     "text": [
      "['its', 'to', 'easy']\n",
      "3\n",
      "11\n",
      "['world', 'earth', 'india', 'agra']\n",
      "4\n"
     ]
    }
   ],
   "source": [
    "#to split the words \n",
    "s=\"its to easy\"\n",
    "words=s.split()\n",
    "print(words)\n",
    "print(len(words))\n",
    "print(len(s))\n",
    "#example\n",
    "\n",
    "s=\"world earth india agra\"\n",
    "words=s.split()\n",
    "print(words)\n",
    "print(len(words))"
   ]
  },
  {
   "cell_type": "code",
   "execution_count": null,
   "id": "7dfbf815",
   "metadata": {},
   "outputs": [],
   "source": []
  },
  {
   "cell_type": "code",
   "execution_count": null,
   "id": "3930824e",
   "metadata": {},
   "outputs": [],
   "source": []
  }
 ],
 "metadata": {
  "kernelspec": {
   "display_name": "Python 3 (ipykernel)",
   "language": "python",
   "name": "python3"
  },
  "language_info": {
   "codemirror_mode": {
    "name": "ipython",
    "version": 3
   },
   "file_extension": ".py",
   "mimetype": "text/x-python",
   "name": "python",
   "nbconvert_exporter": "python",
   "pygments_lexer": "ipython3",
   "version": "3.9.13"
  }
 },
 "nbformat": 4,
 "nbformat_minor": 5
}
